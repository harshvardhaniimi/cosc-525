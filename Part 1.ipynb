{
 "cells": [
  {
   "cell_type": "code",
   "execution_count": 31,
   "metadata": {},
   "outputs": [],
   "source": [
    "# setting path etc.\n",
    "import os\n",
    "import sys\n",
    "import numpy as np\n",
    "import pandas as pd\n",
    "import matplotlib.pyplot as plt\n",
    "import seaborn as sns\n",
    "import scipy.stats as stats\n",
    "\n",
    "# Path: /Users/harshvardhan/Library/CloudStorage/Dropbox/Academics/UTK Classes/Spring 2023/Deep Learning/Final Project - FairFace Dataset"
   ]
  },
  {
   "cell_type": "code",
   "execution_count": 32,
   "metadata": {},
   "outputs": [],
   "source": [
    "from sklearn.preprocessing import MinMaxScaler\n",
    "import keras\n",
    "from keras.models import Sequential\n",
    "from keras.layers import Dense\n",
    "import matplotlib.pyplot as plt\n",
    "from sklearn.metrics import confusion_matrix\n",
    "from PIL import Image\n",
    "from concurrent.futures import ThreadPoolExecutor\n",
    "import os\n",
    "import time\n",
    "import random"
   ]
  },
  {
   "cell_type": "code",
   "execution_count": 33,
   "metadata": {},
   "outputs": [],
   "source": [
    "import numpy as np\n",
    "from sklearn.preprocessing import MinMaxScaler\n",
    "import keras\n",
    "from keras.models import Sequential\n",
    "from keras.layers import Dense,Conv2D,MaxPooling2D,Flatten\n",
    "import matplotlib.pyplot as plt\n",
    "from sklearn.metrics import confusion_matrix\n",
    "import argparse\n",
    "import os\n",
    "import seaborn as sns\n",
    "from tensorflow.keras.layers import Lambda, Input, Dense,Conv2DTranspose,Reshape\n",
    "from tensorflow.keras.models import Model\n",
    "from tensorflow.keras.datasets import mnist\n",
    "from tensorflow.keras.losses import mse, binary_crossentropy\n",
    "from tensorflow.keras.utils import plot_model\n",
    "from tensorflow.keras import backend as K\n",
    "import matplotlib.gridspec as gridspec\n",
    "from tensorflow.keras.models import Model\n",
    "from tensorflow.keras.layers import Input, Conv2D, MaxPooling2D, Dense, Flatten, Lambda, Reshape, Conv2DTranspose"
   ]
  },
  {
   "attachments": {},
   "cell_type": "markdown",
   "metadata": {},
   "source": [
    "# Function for one-hot encoding gender, age and race"
   ]
  },
  {
   "cell_type": "code",
   "execution_count": 34,
   "metadata": {},
   "outputs": [],
   "source": [
    "def convert_age(age):\n",
    "    age_dict = {'0-2': 0, '3-9': 1, '10-19': 2, '20-29': 3, '30-39': 4, '40-49': 5, '50-59': 6, '60-69': 7, 'more than 70': 8}\n",
    "    return np.eye(9)[[age_dict[a] for a in age]]\n",
    "\n",
    "def convert_gender(gender):\n",
    "    gender_dict = {'Male': 0, 'Female': 1}\n",
    "    return np.eye(2)[[gender_dict[g] for g in gender]]\n",
    "\n",
    "def convert_race(race):\n",
    "    race_dict = {'Black': 0, 'Latino_Hispanic': 1, 'East Asian': 2, 'White': 3, 'Southeast Asian': 4, 'Middle Eastern': 5, 'Indian': 6}\n",
    "    return np.eye(7)[[race_dict[r] for r in race]]"
   ]
  },
  {
   "cell_type": "code",
   "execution_count": 35,
   "metadata": {},
   "outputs": [
    {
     "data": {
      "text/plain": [
       "(86744, 5)"
      ]
     },
     "execution_count": 35,
     "metadata": {},
     "output_type": "execute_result"
    }
   ],
   "source": [
    "df = pd.read_csv('fairface-img-margin025-trainval/fairface_label_train.csv')\n",
    "df.shape"
   ]
  },
  {
   "cell_type": "code",
   "execution_count": null,
   "metadata": {},
   "outputs": [],
   "source": []
  },
  {
   "cell_type": "code",
   "execution_count": 36,
   "metadata": {},
   "outputs": [],
   "source": [
    "# function to read image\n",
    "def read_image(image_path):\n",
    "    with Image.open(image_path) as image:\n",
    "        return np.asarray(image)\n",
    "\n",
    "# function to read image\n",
    "def read_image(image_path):\n",
    "    with Image.open(image_path) as image:\n",
    "        return np.asarray(image)\n",
    "\n",
    "# read data, labels in lists\n",
    "def get_dataset(DATA_DIR, mode, sample=False):\n",
    "    if mode == 'train':\n",
    "        df = pd.read_csv(os.path.join(DATA_DIR, 'fairface_label_train.csv'))\n",
    "    elif mode == 'val':\n",
    "        df = pd.read_csv(os.path.join(DATA_DIR, 'fairface_label_val.csv'))\n",
    "    else:\n",
    "        raise ValueError\n",
    "\n",
    "    age = df['age'].values.tolist()\n",
    "    gender = df['gender'].values.tolist()\n",
    "    race = df['race'].values.tolist()\n",
    "    filenames = df['file'].values.tolist()\n",
    "\n",
    "    image_paths = [os.path.join(DATA_DIR, name) for name in filenames]\n",
    "\n",
    "    if sample:\n",
    "        sample_size = int(len(image_paths) * 0.05) # 5% of total images\n",
    "        sampled_indexes = random.sample(range(len(image_paths)), sample_size)\n",
    "        image_paths = [image_paths[i] for i in sampled_indexes]\n",
    "        age = [age[i] for i in sampled_indexes]\n",
    "        gender = [gender[i] for i in sampled_indexes]\n",
    "        race = [race[i] for i in sampled_indexes]\n",
    "\n",
    "    with ThreadPoolExecutor() as executor:\n",
    "        all_img = list(executor.map(read_image, image_paths))\n",
    "    \n",
    "    onehot_age = convert_age(age)\n",
    "    onehot_gender = convert_gender(gender)\n",
    "    onehot_race = convert_race(race)\n",
    "\n",
    "    return all_img, onehot_age, onehot_gender, onehot_race"
   ]
  },
  {
   "cell_type": "code",
   "execution_count": 37,
   "metadata": {},
   "outputs": [],
   "source": [
    "DATA_DIR = '/Users/harshvardhan/Library/CloudStorage/Dropbox/Academics/UTK Classes/Spring 2023/Deep Learning/Final Project - FairFace Data/cosc-525-final-project/fairface-img-margin025-trainval'"
   ]
  },
  {
   "cell_type": "code",
   "execution_count": 40,
   "metadata": {},
   "outputs": [
    {
     "name": "stdout",
     "output_type": "stream",
     "text": [
      "150528 150528\n"
     ]
    },
    {
     "ename": "ValueError",
     "evalue": "cannot reshape array of size 150528 into shape (224,224)",
     "output_type": "error",
     "traceback": [
      "\u001b[0;31m---------------------------------------------------------------------------\u001b[0m",
      "\u001b[0;31mValueError\u001b[0m                                Traceback (most recent call last)",
      "Cell \u001b[0;32mIn[40], line 16\u001b[0m\n\u001b[1;32m     13\u001b[0m scaled_val_img \u001b[39m=\u001b[39m scaler\u001b[39m.\u001b[39mtransform(flattened_val_img)\n\u001b[1;32m     15\u001b[0m scaled_train_img \u001b[39m=\u001b[39m np\u001b[39m.\u001b[39marray([img\u001b[39m.\u001b[39mreshape(\u001b[39m224\u001b[39m,\u001b[39m224\u001b[39m,\u001b[39m3\u001b[39m) \u001b[39mfor\u001b[39;00m img \u001b[39min\u001b[39;00m scaled_train_img])\n\u001b[0;32m---> 16\u001b[0m scaled_val_img \u001b[39m=\u001b[39m np\u001b[39m.\u001b[39marray([img\u001b[39m.\u001b[39mreshape(\u001b[39m224\u001b[39m,\u001b[39m224\u001b[39m, ) \u001b[39mfor\u001b[39;00m img \u001b[39min\u001b[39;00m scaled_val_img])\n",
      "Cell \u001b[0;32mIn[40], line 16\u001b[0m, in \u001b[0;36m<listcomp>\u001b[0;34m(.0)\u001b[0m\n\u001b[1;32m     13\u001b[0m scaled_val_img \u001b[39m=\u001b[39m scaler\u001b[39m.\u001b[39mtransform(flattened_val_img)\n\u001b[1;32m     15\u001b[0m scaled_train_img \u001b[39m=\u001b[39m np\u001b[39m.\u001b[39marray([img\u001b[39m.\u001b[39mreshape(\u001b[39m224\u001b[39m,\u001b[39m224\u001b[39m,\u001b[39m3\u001b[39m) \u001b[39mfor\u001b[39;00m img \u001b[39min\u001b[39;00m scaled_train_img])\n\u001b[0;32m---> 16\u001b[0m scaled_val_img \u001b[39m=\u001b[39m np\u001b[39m.\u001b[39marray([img\u001b[39m.\u001b[39;49mreshape(\u001b[39m224\u001b[39;49m,\u001b[39m224\u001b[39;49m, ) \u001b[39mfor\u001b[39;00m img \u001b[39min\u001b[39;00m scaled_val_img])\n",
      "\u001b[0;31mValueError\u001b[0m: cannot reshape array of size 150528 into shape (224,224)"
     ]
    }
   ],
   "source": [
    "train_img, train_age, train_gender, train_race = get_dataset(DATA_DIR,'train', sample=True)\n",
    "val_img, val_age, val_gender, val_race = get_dataset(DATA_DIR,'val', sample=True)\n",
    "\n",
    "# min-max scaling\n",
    "flattened_train_img = [img.reshape(224*224*3) for img in train_img]\n",
    "flattened_val_img = [img.reshape(224*224*3) for img in val_img]\n",
    "\n",
    "scaler = MinMaxScaler()\n",
    "scaler.fit(flattened_train_img)\n",
    "print(len(scaler.data_max_), len(scaler.data_min_))\n",
    "\n",
    "scaled_train_img = scaler.transform(flattened_train_img)\n",
    "scaled_val_img = scaler.transform(flattened_val_img)\n",
    "\n",
    "scaled_train_img = np.array([img.reshape(224,224,3) for img in scaled_train_img])\n",
    "scaled_val_img = np.array([img.reshape(224,224, ) for img in scaled_val_img])"
   ]
  },
  {
   "attachments": {},
   "cell_type": "markdown",
   "metadata": {},
   "source": [
    "# Auto Encoder"
   ]
  },
  {
   "cell_type": "code",
   "execution_count": null,
   "metadata": {},
   "outputs": [],
   "source": [
    "def sampling(args):\n",
    "    \"\"\"Reparameterization trick by sampling from an isotropic unit Gaussian.\n",
    "\n",
    "    # Arguments\n",
    "        args (tensor): mean and log of variance of Q(z|X)\n",
    "\n",
    "    # Returns\n",
    "        z (tensor): sampled latent vector\n",
    "    \"\"\"\n",
    "    #Extract mean and log of variance\n",
    "    z_mean, z_log_var = args\n",
    "    #get batch size and length of vector (size of latent space)\n",
    "    batch = K.shape(z_mean)[0]\n",
    "    dim = K.int_shape(z_mean)[1]\n",
    "\n",
    "    # by default, random_normal has mean = 0 and std = 1.0\n",
    "    epsilon = K.random_normal(shape=(batch, dim))\n",
    "    #Return sampled number (need to raise var to correct power)\n",
    "    return z_mean + K.exp(z_log_var) * epsilon"
   ]
  },
  {
   "cell_type": "code",
   "execution_count": null,
   "metadata": {},
   "outputs": [],
   "source": [
    "latent_dim = 10"
   ]
  },
  {
   "attachments": {},
   "cell_type": "markdown",
   "metadata": {},
   "source": [
    "# Decoder Model"
   ]
  },
  {
   "cell_type": "code",
   "execution_count": null,
   "metadata": {},
   "outputs": [],
   "source": [
    "latent_inputs = Input(shape=(latent_dim,), name='z_sampling')\n",
    "\n",
    "x = Dense(128, activation='relu', name=\"decoder_hidden_layer\")(latent_inputs)\n",
    "x = Reshape((2,2,32))(x)\n",
    "x = Conv2DTranspose(filters = 64, kernel_size = (3,3), strides = 2, padding = 'same',activation = 'relu')(x)\n",
    "x = Conv2DTranspose(filters=32,kernel_size=3,strides=2,padding='valid', activation='relu')(x)\n",
    "x = Conv2D(filters=16,kernel_size=3,strides=1,padding='valid', activation='relu')(x)\n",
    "x = Conv2DTranspose(filters=16,kernel_size=3,strides=2,padding='valid', activation='relu')(x)\n",
    "x = Conv2DTranspose(filters=1,kernel_size=4,strides=2,padding='valid', activation='relu')(x)"
   ]
  },
  {
   "cell_type": "code",
   "execution_count": null,
   "metadata": {},
   "outputs": [],
   "source": [
    "# instantiate decoder model\n",
    "decoder = Model(latent_inputs, outputs=x, name='decoder_output')\n",
    "decoder.summary()"
   ]
  },
  {
   "cell_type": "code",
   "execution_count": null,
   "metadata": {},
   "outputs": [],
   "source": []
  }
 ],
 "metadata": {
  "kernelspec": {
   "display_name": "tf",
   "language": "python",
   "name": "python3"
  },
  "language_info": {
   "codemirror_mode": {
    "name": "ipython",
    "version": 3
   },
   "file_extension": ".py",
   "mimetype": "text/x-python",
   "name": "python",
   "nbconvert_exporter": "python",
   "pygments_lexer": "ipython3",
   "version": "3.10.9"
  },
  "orig_nbformat": 4
 },
 "nbformat": 4,
 "nbformat_minor": 2
}

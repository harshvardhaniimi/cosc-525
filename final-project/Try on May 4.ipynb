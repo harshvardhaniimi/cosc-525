{
 "cells": [
  {
   "cell_type": "code",
   "execution_count": 3,
   "metadata": {
    "execution": {
     "iopub.execute_input": "2023-05-04T21:59:36.229535Z",
     "iopub.status.busy": "2023-05-04T21:59:36.229346Z",
     "iopub.status.idle": "2023-05-04T21:59:54.224839Z",
     "shell.execute_reply": "2023-05-04T21:59:54.223992Z",
     "shell.execute_reply.started": "2023-05-04T21:59:36.229518Z"
    },
    "tags": []
   },
   "outputs": [],
   "source": [
    "import zipfile\n",
    "\n",
    "def unzip_file(zip_filepath, output_directory):\n",
    "    with zipfile.ZipFile(zip_filepath, 'r') as zip_ref:\n",
    "        zip_ref.extractall(output_directory)\n",
    "\n",
    "# Example usage\n",
    "zip_filepath = 'fairface-img-margin025-trainval.zip'\n",
    "output_directory = 'fairface-img-margin025-trainval/'\n",
    "unzip_file(zip_filepath, output_directory)"
   ]
  },
  {
   "cell_type": "code",
   "execution_count": 1,
   "metadata": {
    "execution": {
     "iopub.execute_input": "2023-05-05T20:41:18.130387Z",
     "iopub.status.busy": "2023-05-05T20:41:18.129577Z",
     "iopub.status.idle": "2023-05-05T20:41:20.246368Z",
     "shell.execute_reply": "2023-05-05T20:41:20.245854Z",
     "shell.execute_reply.started": "2023-05-05T20:41:18.130250Z"
    },
    "tags": []
   },
   "outputs": [
    {
     "name": "stderr",
     "output_type": "stream",
     "text": [
      "2023-05-05 16:41:18.441586: I tensorflow/core/util/port.cc:110] oneDNN custom operations are on. You may see slightly different numerical results due to floating-point round-off errors from different computation orders. To turn them off, set the environment variable `TF_ENABLE_ONEDNN_OPTS=0`.\n",
      "2023-05-05 16:41:18.490986: I tensorflow/core/platform/cpu_feature_guard.cc:182] This TensorFlow binary is optimized to use available CPU instructions in performance-critical operations.\n",
      "To enable the following instructions: AVX2 AVX512F AVX512_VNNI FMA, in other operations, rebuild TensorFlow with the appropriate compiler flags.\n"
     ]
    }
   ],
   "source": [
    "import os\n",
    "import numpy as np\n",
    "import tensorflow as tf\n",
    "from tensorflow.keras.preprocessing.image import ImageDataGenerator\n",
    "from tensorflow.keras.layers import Input, Conv2D, MaxPooling2D, UpSampling2D, Dense, Flatten\n",
    "from tensorflow.keras.models import Model\n",
    "from sklearn.model_selection import train_test_split"
   ]
  },
  {
   "cell_type": "code",
   "execution_count": 2,
   "metadata": {
    "execution": {
     "iopub.execute_input": "2023-05-05T20:41:28.727791Z",
     "iopub.status.busy": "2023-05-05T20:41:28.727481Z",
     "iopub.status.idle": "2023-05-05T20:41:28.733720Z",
     "shell.execute_reply": "2023-05-05T20:41:28.732744Z",
     "shell.execute_reply.started": "2023-05-05T20:41:28.727771Z"
    },
    "tags": []
   },
   "outputs": [],
   "source": [
    "import pandas as pd\n",
    "from sklearn.preprocessing import LabelEncoder\n",
    "\n",
    "def load_labels_and_dataframe(path, train_csv, val_csv):\n",
    "    # Load the CSV files\n",
    "    train_df = pd.read_csv(os.path.join(path, train_csv))\n",
    "    val_df = pd.read_csv(os.path.join(path, val_csv))\n",
    "    \n",
    "    # Encode the categorical labels\n",
    "    age_encoder = LabelEncoder()\n",
    "    gender_encoder = LabelEncoder()\n",
    "    race_encoder = LabelEncoder()\n",
    "\n",
    "    train_df['age'] = age_encoder.fit_transform(train_df['age'])\n",
    "    train_df['gender'] = gender_encoder.fit_transform(train_df['gender'])\n",
    "    train_df['race'] = race_encoder.fit_transform(train_df['race'])\n",
    "\n",
    "    val_df['age'] = age_encoder.transform(val_df['age'])\n",
    "    val_df['gender'] = gender_encoder.transform(val_df['gender'])\n",
    "    val_df['race'] = race_encoder.transform(val_df['race'])\n",
    "    \n",
    "    return train_df, val_df, age_encoder, gender_encoder, race_encoder"
   ]
  },
  {
   "cell_type": "code",
   "execution_count": 3,
   "metadata": {
    "execution": {
     "iopub.execute_input": "2023-05-05T20:41:29.844512Z",
     "iopub.status.busy": "2023-05-05T20:41:29.843506Z",
     "iopub.status.idle": "2023-05-05T20:41:29.852958Z",
     "shell.execute_reply": "2023-05-05T20:41:29.851625Z",
     "shell.execute_reply.started": "2023-05-05T20:41:29.844466Z"
    },
    "tags": []
   },
   "outputs": [],
   "source": [
    "# for all data\n",
    "def load_data(path, input_shape):\n",
    "    train_datagen = ImageDataGenerator(rescale=1./255)\n",
    "    val_datagen = ImageDataGenerator(rescale=1./255)\n",
    "\n",
    "    train_gen = train_datagen.flow_from_directory(\n",
    "        os.path.join(path, 'train'),\n",
    "        target_size=input_shape[:2],\n",
    "        batch_size=32,\n",
    "        class_mode='categorical'\n",
    "    )\n",
    "\n",
    "    val_gen = val_datagen.flow_from_directory(\n",
    "        os.path.join(path, 'val'),\n",
    "        target_size=input_shape[:2],\n",
    "        batch_size=32,\n",
    "        class_mode='categorical'\n",
    "    )\n",
    "\n",
    "    return train_gen, val_gen\n"
   ]
  },
  {
   "cell_type": "code",
   "execution_count": 4,
   "metadata": {
    "execution": {
     "iopub.execute_input": "2023-05-05T20:41:30.713312Z",
     "iopub.status.busy": "2023-05-05T20:41:30.712314Z",
     "iopub.status.idle": "2023-05-05T20:41:30.727224Z",
     "shell.execute_reply": "2023-05-05T20:41:30.725843Z",
     "shell.execute_reply.started": "2023-05-05T20:41:30.713258Z"
    },
    "tags": []
   },
   "outputs": [],
   "source": [
    "from tensorflow.keras.preprocessing.image import load_img, img_to_array\n",
    "\n",
    "def load_images(df, path, input_shape):\n",
    "    images = []\n",
    "    for _, row in df.iterrows():\n",
    "        img_path = os.path.join(path, row['file'])\n",
    "        img = load_img(img_path, target_size=input_shape[:2])\n",
    "        img_arr = img_to_array(img) / 255.0\n",
    "        images.append(img_arr)\n",
    "    return np.array(images)\n",
    "\n",
    "def load_sample_data(path, input_shape, train_csv, val_csv, sample_percent=0.1):\n",
    "    # Load the dataframes and label encoders\n",
    "    train_df, val_df, age_encoder, gender_encoder, race_encoder = load_labels_and_dataframe(path, \n",
    "                                                                                            \"fairface_label_\"+train_csv, \n",
    "                                                                                            \"fairface_label_\"+val_csv)\n",
    "\n",
    "    # Take a fraction of the dataset\n",
    "    train_df = train_df.sample(frac=sample_percent)\n",
    "    val_df = val_df.sample(frac=sample_percent)\n",
    "\n",
    "    # Load the images and labels\n",
    "    train_images = load_images(train_df, path, input_shape)\n",
    "    train_labels = train_df[[\"age\", \"gender\", \"race\"]].values\n",
    "    val_images = load_images(val_df, path, input_shape)\n",
    "    val_labels = val_df[[\"age\", \"gender\", \"race\"]].values\n",
    "\n",
    "    return train_images, train_labels, val_images, val_labels, age_encoder, gender_encoder, race_encoder"
   ]
  },
  {
   "cell_type": "code",
   "execution_count": 5,
   "metadata": {
    "execution": {
     "iopub.execute_input": "2023-05-05T20:41:31.361425Z",
     "iopub.status.busy": "2023-05-05T20:41:31.360642Z",
     "iopub.status.idle": "2023-05-05T20:41:31.375127Z",
     "shell.execute_reply": "2023-05-05T20:41:31.373766Z",
     "shell.execute_reply.started": "2023-05-05T20:41:31.361375Z"
    },
    "tags": []
   },
   "outputs": [],
   "source": [
    "def create_autoencoder(input_shape):\n",
    "    input_img = Input(shape=input_shape)\n",
    "\n",
    "    # Encoder\n",
    "    x = Conv2D(32, (3, 3), activation='relu', padding='same')(input_img)\n",
    "    x = MaxPooling2D((2, 2), padding='same')(x)\n",
    "    x = Conv2D(64, (3, 3), activation='relu', padding='same')(x)\n",
    "    x = MaxPooling2D((2, 2), padding='same')(x)\n",
    "    x = Conv2D(128, (3, 3), activation='relu', padding='same')(x)\n",
    "    encoded = MaxPooling2D((2, 2), padding='same')(x)\n",
    "\n",
    "    # Decoder\n",
    "    x = Conv2D(128, (3, 3), activation='relu', padding='same')(encoded)\n",
    "    x = UpSampling2D((2, 2))(x)\n",
    "    x = Conv2D(64, (3, 3), activation='relu', padding='same')(x)\n",
    "    x = UpSampling2D((2, 2))(x)\n",
    "    x = Conv2D(32, (3, 3), activation='relu', padding='same')(x)\n",
    "    x = UpSampling2D((2, 2))(x)\n",
    "    decoded = Conv2D(3, (3, 3), activation='sigmoid', padding='same')(x)\n",
    "\n",
    "    autoencoder = Model(input_img, decoded)\n",
    "    return autoencoder"
   ]
  },
  {
   "cell_type": "code",
   "execution_count": 6,
   "metadata": {
    "execution": {
     "iopub.execute_input": "2023-05-05T20:41:31.935319Z",
     "iopub.status.busy": "2023-05-05T20:41:31.934375Z",
     "iopub.status.idle": "2023-05-05T20:41:31.941752Z",
     "shell.execute_reply": "2023-05-05T20:41:31.940505Z",
     "shell.execute_reply.started": "2023-05-05T20:41:31.935267Z"
    },
    "tags": []
   },
   "outputs": [],
   "source": [
    "def extract_encoder(autoencoder):\n",
    "    # Extract the encoder layers from the autoencoder model\n",
    "    input_img = autoencoder.input\n",
    "    # Assuming the encoder layers are the first 5 layers\n",
    "    encoded = autoencoder.layers[5].output\n",
    "\n",
    "    # Create a new model with the encoder layers\n",
    "    encoder = Model(input_img, encoded)\n",
    "\n",
    "    return encoder"
   ]
  },
  {
   "cell_type": "code",
   "execution_count": 7,
   "metadata": {
    "execution": {
     "iopub.execute_input": "2023-05-05T20:41:32.538919Z",
     "iopub.status.busy": "2023-05-05T20:41:32.538112Z",
     "iopub.status.idle": "2023-05-05T20:41:32.548921Z",
     "shell.execute_reply": "2023-05-05T20:41:32.547624Z",
     "shell.execute_reply.started": "2023-05-05T20:41:32.538866Z"
    },
    "tags": []
   },
   "outputs": [],
   "source": [
    "def create_classification_model(encoder, num_race_classes, num_age_classes, num_gender_classes):\n",
    "    # Use the encoder's output as input for the classification model\n",
    "    encoded_input = encoder.output\n",
    "\n",
    "    # Add a Flatten layer to convert the feature maps into a 1D vector\n",
    "    x = Flatten()(encoded_input)\n",
    "\n",
    "    # Add Dense layers for classification\n",
    "    x = Dense(256, activation='relu')(x)\n",
    "    x = Dense(128, activation='relu')(x)\n",
    "\n",
    "    # Add output layers for each attribute: race, age, and gender\n",
    "    race_output = Dense(num_race_classes, activation='softmax', name='race_output')(x)\n",
    "    age_output = Dense(num_age_classes, activation='softmax', name='age_output')(x)\n",
    "    gender_output = Dense(num_gender_classes, activation='softmax', name='gender_output')(x)\n",
    "\n",
    "    # Create the classification model\n",
    "    classification_model = Model(encoder.input, [race_output, age_output, gender_output])\n",
    "\n",
    "    return classification_model"
   ]
  },
  {
   "cell_type": "code",
   "execution_count": 8,
   "metadata": {
    "execution": {
     "iopub.execute_input": "2023-05-05T20:41:33.923706Z",
     "iopub.status.busy": "2023-05-05T20:41:33.922907Z",
     "iopub.status.idle": "2023-05-05T20:41:33.928837Z",
     "shell.execute_reply": "2023-05-05T20:41:33.927630Z",
     "shell.execute_reply.started": "2023-05-05T20:41:33.923657Z"
    },
    "tags": []
   },
   "outputs": [],
   "source": [
    "# data_path = \"fairface-img-margin025-trainval/fairface-img-margin025-trainval\"\n",
    "# input_shape = (224, 224, 3)\n",
    "# # Load the data\n",
    "# train_images, train_labels, val_images, val_labels, age_encoder, gender_encoder, race_encoder = load_sample_data(\n",
    "#     data_path, input_shape, \"train.csv\", \"val.csv\", sample_percent=0.1\n",
    "# )"
   ]
  },
  {
   "cell_type": "code",
   "execution_count": 9,
   "metadata": {
    "execution": {
     "iopub.execute_input": "2023-05-05T20:41:34.589066Z",
     "iopub.status.busy": "2023-05-05T20:41:34.588322Z",
     "iopub.status.idle": "2023-05-05T20:41:34.594423Z",
     "shell.execute_reply": "2023-05-05T20:41:34.593113Z",
     "shell.execute_reply.started": "2023-05-05T20:41:34.589017Z"
    },
    "tags": []
   },
   "outputs": [],
   "source": [
    "# train_images.shape"
   ]
  },
  {
   "cell_type": "markdown",
   "metadata": {},
   "source": [
    "## Random Forest Model for Benchmarking"
   ]
  },
  {
   "cell_type": "code",
   "execution_count": 10,
   "metadata": {
    "execution": {
     "iopub.execute_input": "2023-05-05T20:41:38.069534Z",
     "iopub.status.busy": "2023-05-05T20:41:38.068629Z",
     "iopub.status.idle": "2023-05-05T20:41:38.078548Z",
     "shell.execute_reply": "2023-05-05T20:41:38.077182Z",
     "shell.execute_reply.started": "2023-05-05T20:41:38.069485Z"
    },
    "tags": []
   },
   "outputs": [],
   "source": [
    "import numpy as np\n",
    "\n",
    "def predict_in_batches(encoder, data, batch_size):\n",
    "    num_batches = int(np.ceil(len(data) / batch_size))\n",
    "    predictions = []\n",
    "\n",
    "    for i in range(num_batches):\n",
    "        start_idx = i * batch_size\n",
    "        end_idx = min((i + 1) * batch_size, len(data))\n",
    "        batch_data = data[start_idx:end_idx]\n",
    "        batch_predictions = encoder.predict(batch_data)\n",
    "        predictions.append(batch_predictions)\n",
    "\n",
    "    return np.concatenate(predictions, axis=0)"
   ]
  },
  {
   "cell_type": "code",
   "execution_count": 15,
   "metadata": {
    "execution": {
     "iopub.execute_input": "2023-05-05T20:45:33.452635Z",
     "iopub.status.busy": "2023-05-05T20:45:33.451068Z",
     "iopub.status.idle": "2023-05-05T20:45:33.467884Z",
     "shell.execute_reply": "2023-05-05T20:45:33.466578Z",
     "shell.execute_reply.started": "2023-05-05T20:45:33.452566Z"
    }
   },
   "outputs": [],
   "source": [
    "import tensorflow as tf\n",
    "\n",
    "tf.keras.backend.clear_session()"
   ]
  },
  {
   "cell_type": "code",
   "execution_count": 17,
   "metadata": {
    "execution": {
     "iopub.execute_input": "2023-05-05T21:34:25.500150Z",
     "iopub.status.busy": "2023-05-05T21:34:25.498951Z",
     "iopub.status.idle": "2023-05-05T21:34:25.937585Z",
     "shell.execute_reply": "2023-05-05T21:34:25.935921Z",
     "shell.execute_reply.started": "2023-05-05T21:34:25.500081Z"
    },
    "tags": []
   },
   "outputs": [
    {
     "name": "stdout",
     "output_type": "stream",
     "text": [
      "Fri May  5 17:34:25 2023       \n",
      "+-----------------------------------------------------------------------------+\n",
      "| NVIDIA-SMI 515.65.01    Driver Version: 515.65.01    CUDA Version: 11.7     |\n",
      "|-------------------------------+----------------------+----------------------+\n",
      "| GPU  Name        Persistence-M| Bus-Id        Disp.A | Volatile Uncorr. ECC |\n",
      "| Fan  Temp  Perf  Pwr:Usage/Cap|         Memory-Usage | GPU-Util  Compute M. |\n",
      "|                               |                      |               MIG M. |\n",
      "|===============================+======================+======================|\n",
      "|   0  NVIDIA A40          Off  | 00000000:51:00.0 Off |                    0 |\n",
      "|  0%   55C    P0    84W / 300W |   3678MiB / 46068MiB |      0%      Default |\n",
      "|                               |                      |                  N/A |\n",
      "+-------------------------------+----------------------+----------------------+\n",
      "                                                                               \n",
      "+-----------------------------------------------------------------------------+\n",
      "| Processes:                                                                  |\n",
      "|  GPU   GI   CI        PID   Type   Process name                  GPU Memory |\n",
      "|        ID   ID                                                   Usage      |\n",
      "|=============================================================================|\n",
      "|    0   N/A  N/A    820027      C   /usr/bin/python3                  941MiB |\n",
      "|    0   N/A  N/A    824519      C   /usr/bin/python3                 2735MiB |\n",
      "+-----------------------------------------------------------------------------+\n"
     ]
    }
   ],
   "source": [
    "!nvidia-smi"
   ]
  },
  {
   "cell_type": "code",
   "execution_count": 11,
   "metadata": {
    "execution": {
     "iopub.execute_input": "2023-05-05T20:41:40.887204Z",
     "iopub.status.busy": "2023-05-05T20:41:40.886213Z",
     "iopub.status.idle": "2023-05-05T20:41:40.970202Z",
     "shell.execute_reply": "2023-05-05T20:41:40.969345Z",
     "shell.execute_reply.started": "2023-05-05T20:41:40.887151Z"
    },
    "tags": []
   },
   "outputs": [],
   "source": [
    "from sklearn.ensemble import RandomForestClassifier\n",
    "from sklearn.metrics import classification_report\n",
    "\n",
    "def run_model(data_path):\n",
    "    input_shape = (224, 224, 3)\n",
    "\n",
    "    # Load the data\n",
    "    train_images, train_labels, val_images, val_labels, age_encoder, gender_encoder, race_encoder = load_sample_data(\n",
    "        data_path, input_shape, \"train.csv\", \"val.csv\", sample_percent=0.1\n",
    "    )\n",
    "\n",
    "    # Create the autoencoder model\n",
    "    autoencoder = create_autoencoder(input_shape)\n",
    "    autoencoder.compile(optimizer='adam', loss='mse')\n",
    "\n",
    "    # Train the autoencoder\n",
    "    autoencoder.fit(\n",
    "        train_images, train_images,\n",
    "        epochs=2,\n",
    "        batch_size=4,\n",
    "        validation_data=(val_images, val_images)\n",
    "    )\n",
    "\n",
    "    # Extract the encoder\n",
    "    encoder = extract_encoder(autoencoder)\n",
    "\n",
    "    # Set the batch size for predictions\n",
    "    prediction_batch_size = 32\n",
    "\n",
    "    # Encode the train and validation images\n",
    "    train_embeddings = predict_in_batches(encoder, train_images, prediction_batch_size)\n",
    "    val_embeddings = predict_in_batches(encoder, val_images, prediction_batch_size)\n",
    "\n",
    "    # Train a classifier on the embeddings\n",
    "    clf = RandomForestClassifier()\n",
    "    clf.fit(train_embeddings, train_labels)\n",
    "\n",
    "    # Predict the labels for the validation set\n",
    "    val_predictions = clf.predict(val_embeddings)\n",
    "\n",
    "    # Compute the accuracy for each attribute\n",
    "    print(\"Validation accuracy:\")\n",
    "    print(\"Age:\")\n",
    "    print(classification_report(val_labels[:, 0], val_predictions[:, 0], target_names=age_encoder.classes_))\n",
    "    print(\"Gender:\")\n",
    "    print(classification_report(val_labels[:, 1], val_predictions[:, 1], target_names=gender_encoder.classes_))\n",
    "    print(\"Race:\")\n",
    "    print(classification_report(val_labels[:, 2], val_predictions[:, 2], target_names=race_encoder.classes_))\n",
    "\n",
    "    return encoder"
   ]
  },
  {
   "cell_type": "code",
   "execution_count": 12,
   "metadata": {
    "execution": {
     "iopub.execute_input": "2023-05-05T20:41:43.140986Z",
     "iopub.status.busy": "2023-05-05T20:41:43.140404Z",
     "iopub.status.idle": "2023-05-05T20:42:06.655521Z",
     "shell.execute_reply": "2023-05-05T20:42:06.654531Z",
     "shell.execute_reply.started": "2023-05-05T20:41:43.140954Z"
    },
    "tags": []
   },
   "outputs": [
    {
     "name": "stderr",
     "output_type": "stream",
     "text": [
      "2023-05-05 16:41:53.413699: I tensorflow/core/common_runtime/gpu/gpu_device.cc:1635] Created device /job:localhost/replica:0/task:0/device:GPU:0 with 466 MB memory:  -> device: 0, name: NVIDIA A40, pci bus id: 0000:51:00.0, compute capability: 8.6\n",
      "2023-05-05 16:42:06.122866: W tensorflow/tsl/framework/bfc_allocator.cc:485] Allocator (GPU_0_bfc) ran out of memory trying to allocate 4.86GiB (rounded to 5222719488)requested by op _EagerConst\n",
      "If the cause is memory fragmentation maybe the environment variable 'TF_GPU_ALLOCATOR=cuda_malloc_async' will improve the situation. \n",
      "Current allocation summary follows.\n",
      "Current allocation summary follows.\n",
      "2023-05-05 16:42:06.122918: I tensorflow/tsl/framework/bfc_allocator.cc:1039] BFCAllocator dump for GPU_0_bfc\n",
      "2023-05-05 16:42:06.122942: I tensorflow/tsl/framework/bfc_allocator.cc:1046] Bin (256): \tTotal Chunks: 19, Chunks in use: 19. 4.8KiB allocated for chunks. 4.8KiB in use in bin. 844B client-requested in use in bin.\n",
      "2023-05-05 16:42:06.122958: I tensorflow/tsl/framework/bfc_allocator.cc:1046] Bin (512): \tTotal Chunks: 2, Chunks in use: 2. 1.0KiB allocated for chunks. 1.0KiB in use in bin. 1.0KiB client-requested in use in bin.\n",
      "2023-05-05 16:42:06.122973: I tensorflow/tsl/framework/bfc_allocator.cc:1046] Bin (1024): \tTotal Chunks: 1, Chunks in use: 1. 1.2KiB allocated for chunks. 1.2KiB in use in bin. 1.0KiB client-requested in use in bin.\n",
      "2023-05-05 16:42:06.122988: I tensorflow/tsl/framework/bfc_allocator.cc:1046] Bin (2048): \tTotal Chunks: 3, Chunks in use: 2. 9.2KiB allocated for chunks. 7.0KiB in use in bin. 6.8KiB client-requested in use in bin.\n",
      "2023-05-05 16:42:06.123002: I tensorflow/tsl/framework/bfc_allocator.cc:1046] Bin (4096): \tTotal Chunks: 1, Chunks in use: 0. 4.0KiB allocated for chunks. 0B in use in bin. 0B client-requested in use in bin.\n",
      "2023-05-05 16:42:06.123015: I tensorflow/tsl/framework/bfc_allocator.cc:1046] Bin (8192): \tTotal Chunks: 0, Chunks in use: 0. 0B allocated for chunks. 0B in use in bin. 0B client-requested in use in bin.\n",
      "2023-05-05 16:42:06.123028: I tensorflow/tsl/framework/bfc_allocator.cc:1046] Bin (16384): \tTotal Chunks: 0, Chunks in use: 0. 0B allocated for chunks. 0B in use in bin. 0B client-requested in use in bin.\n",
      "2023-05-05 16:42:06.123040: I tensorflow/tsl/framework/bfc_allocator.cc:1046] Bin (32768): \tTotal Chunks: 0, Chunks in use: 0. 0B allocated for chunks. 0B in use in bin. 0B client-requested in use in bin.\n",
      "2023-05-05 16:42:06.123058: I tensorflow/tsl/framework/bfc_allocator.cc:1046] Bin (65536): \tTotal Chunks: 2, Chunks in use: 2. 144.0KiB allocated for chunks. 144.0KiB in use in bin. 144.0KiB client-requested in use in bin.\n",
      "2023-05-05 16:42:06.123073: I tensorflow/tsl/framework/bfc_allocator.cc:1046] Bin (131072): \tTotal Chunks: 2, Chunks in use: 0. 352.8KiB allocated for chunks. 0B in use in bin. 0B client-requested in use in bin.\n",
      "2023-05-05 16:42:06.123088: I tensorflow/tsl/framework/bfc_allocator.cc:1046] Bin (262144): \tTotal Chunks: 2, Chunks in use: 2. 576.0KiB allocated for chunks. 576.0KiB in use in bin. 576.0KiB client-requested in use in bin.\n",
      "2023-05-05 16:42:06.123103: I tensorflow/tsl/framework/bfc_allocator.cc:1046] Bin (524288): \tTotal Chunks: 2, Chunks in use: 1. 1.12MiB allocated for chunks. 576.0KiB in use in bin. 576.0KiB client-requested in use in bin.\n",
      "2023-05-05 16:42:06.123116: I tensorflow/tsl/framework/bfc_allocator.cc:1046] Bin (1048576): \tTotal Chunks: 0, Chunks in use: 0. 0B allocated for chunks. 0B in use in bin. 0B client-requested in use in bin.\n",
      "2023-05-05 16:42:06.123128: I tensorflow/tsl/framework/bfc_allocator.cc:1046] Bin (2097152): \tTotal Chunks: 0, Chunks in use: 0. 0B allocated for chunks. 0B in use in bin. 0B client-requested in use in bin.\n",
      "2023-05-05 16:42:06.123140: I tensorflow/tsl/framework/bfc_allocator.cc:1046] Bin (4194304): \tTotal Chunks: 0, Chunks in use: 0. 0B allocated for chunks. 0B in use in bin. 0B client-requested in use in bin.\n",
      "2023-05-05 16:42:06.123153: I tensorflow/tsl/framework/bfc_allocator.cc:1046] Bin (8388608): \tTotal Chunks: 0, Chunks in use: 0. 0B allocated for chunks. 0B in use in bin. 0B client-requested in use in bin.\n",
      "2023-05-05 16:42:06.123165: I tensorflow/tsl/framework/bfc_allocator.cc:1046] Bin (16777216): \tTotal Chunks: 0, Chunks in use: 0. 0B allocated for chunks. 0B in use in bin. 0B client-requested in use in bin.\n",
      "2023-05-05 16:42:06.123178: I tensorflow/tsl/framework/bfc_allocator.cc:1046] Bin (33554432): \tTotal Chunks: 0, Chunks in use: 0. 0B allocated for chunks. 0B in use in bin. 0B client-requested in use in bin.\n",
      "2023-05-05 16:42:06.123190: I tensorflow/tsl/framework/bfc_allocator.cc:1046] Bin (67108864): \tTotal Chunks: 0, Chunks in use: 0. 0B allocated for chunks. 0B in use in bin. 0B client-requested in use in bin.\n",
      "2023-05-05 16:42:06.123205: I tensorflow/tsl/framework/bfc_allocator.cc:1046] Bin (134217728): \tTotal Chunks: 0, Chunks in use: 0. 0B allocated for chunks. 0B in use in bin. 0B client-requested in use in bin.\n",
      "2023-05-05 16:42:06.123219: I tensorflow/tsl/framework/bfc_allocator.cc:1046] Bin (268435456): \tTotal Chunks: 1, Chunks in use: 0. 464.62MiB allocated for chunks. 0B in use in bin. 0B client-requested in use in bin.\n",
      "2023-05-05 16:42:06.123234: I tensorflow/tsl/framework/bfc_allocator.cc:1062] Bin for 4.86GiB was 256.00MiB, Chunk State: \n",
      "2023-05-05 16:42:06.123254: I tensorflow/tsl/framework/bfc_allocator.cc:1068]   Size: 464.62MiB | Requested Size: 0B | in_use: 0 | bin_num: 20, prev:   Size: 576.0KiB | Requested Size: 576.0KiB | in_use: 1 | bin_num: -1\n",
      "2023-05-05 16:42:06.123265: I tensorflow/tsl/framework/bfc_allocator.cc:1075] Next region of size 489488384\n",
      "2023-05-05 16:42:06.123279: I tensorflow/tsl/framework/bfc_allocator.cc:1095] InUse at 7f19de000000 of size 1280 next 1\n",
      "2023-05-05 16:42:06.123290: I tensorflow/tsl/framework/bfc_allocator.cc:1095] InUse at 7f19de000500 of size 256 next 2\n",
      "2023-05-05 16:42:06.123300: I tensorflow/tsl/framework/bfc_allocator.cc:1095] InUse at 7f19de000600 of size 256 next 3\n",
      "2023-05-05 16:42:06.123310: I tensorflow/tsl/framework/bfc_allocator.cc:1095] InUse at 7f19de000700 of size 256 next 5\n",
      "2023-05-05 16:42:06.123320: I tensorflow/tsl/framework/bfc_allocator.cc:1095] InUse at 7f19de000800 of size 256 next 6\n",
      "2023-05-05 16:42:06.123330: I tensorflow/tsl/framework/bfc_allocator.cc:1095] InUse at 7f19de000900 of size 256 next 4\n",
      "2023-05-05 16:42:06.123340: I tensorflow/tsl/framework/bfc_allocator.cc:1095] InUse at 7f19de000a00 of size 256 next 7\n",
      "2023-05-05 16:42:06.123350: I tensorflow/tsl/framework/bfc_allocator.cc:1095] InUse at 7f19de000b00 of size 256 next 12\n",
      "2023-05-05 16:42:06.123360: I tensorflow/tsl/framework/bfc_allocator.cc:1095] InUse at 7f19de000c00 of size 256 next 10\n",
      "2023-05-05 16:42:06.123370: I tensorflow/tsl/framework/bfc_allocator.cc:1095] InUse at 7f19de000d00 of size 256 next 11\n",
      "2023-05-05 16:42:06.123380: I tensorflow/tsl/framework/bfc_allocator.cc:1095] InUse at 7f19de000e00 of size 512 next 17\n",
      "2023-05-05 16:42:06.123391: I tensorflow/tsl/framework/bfc_allocator.cc:1095] InUse at 7f19de001000 of size 256 next 15\n",
      "2023-05-05 16:42:06.123401: I tensorflow/tsl/framework/bfc_allocator.cc:1095] InUse at 7f19de001100 of size 256 next 16\n",
      "2023-05-05 16:42:06.123411: I tensorflow/tsl/framework/bfc_allocator.cc:1095] InUse at 7f19de001200 of size 512 next 20\n",
      "2023-05-05 16:42:06.123421: I tensorflow/tsl/framework/bfc_allocator.cc:1095] InUse at 7f19de001400 of size 256 next 25\n",
      "2023-05-05 16:42:06.123431: I tensorflow/tsl/framework/bfc_allocator.cc:1095] InUse at 7f19de001500 of size 256 next 27\n",
      "2023-05-05 16:42:06.123441: I tensorflow/tsl/framework/bfc_allocator.cc:1095] Free  at 7f19de001600 of size 4096 next 8\n",
      "2023-05-05 16:42:06.123444: I tensorflow/tsl/framework/bfc_allocator.cc:1095] InUse at 7f19de002600 of size 3584 next 9\n",
      "2023-05-05 16:42:06.123447: I tensorflow/tsl/framework/bfc_allocator.cc:1095] InUse at 7f19de003400 of size 256 next 24\n",
      "2023-05-05 16:42:06.123450: I tensorflow/tsl/framework/bfc_allocator.cc:1095] InUse at 7f19de003500 of size 256 next 21\n",
      "2023-05-05 16:42:06.123453: I tensorflow/tsl/framework/bfc_allocator.cc:1095] InUse at 7f19de003600 of size 256 next 29\n",
      "2023-05-05 16:42:06.123456: I tensorflow/tsl/framework/bfc_allocator.cc:1095] InUse at 7f19de003700 of size 256 next 32\n",
      "2023-05-05 16:42:06.123459: I tensorflow/tsl/framework/bfc_allocator.cc:1095] InUse at 7f19de003800 of size 256 next 33\n",
      "2023-05-05 16:42:06.123462: I tensorflow/tsl/framework/bfc_allocator.cc:1095] InUse at 7f19de003900 of size 256 next 34\n",
      "2023-05-05 16:42:06.123465: I tensorflow/tsl/framework/bfc_allocator.cc:1095] Free  at 7f19de003a00 of size 2304 next 30\n",
      "2023-05-05 16:42:06.123468: I tensorflow/tsl/framework/bfc_allocator.cc:1095] InUse at 7f19de004300 of size 3584 next 31\n",
      "2023-05-05 16:42:06.123472: I tensorflow/tsl/framework/bfc_allocator.cc:1095] Free  at 7f19de005100 of size 140032 next 14\n",
      "2023-05-05 16:42:06.123475: I tensorflow/tsl/framework/bfc_allocator.cc:1095] InUse at 7f19de027400 of size 73728 next 13\n",
      "2023-05-05 16:42:06.123479: I tensorflow/tsl/framework/bfc_allocator.cc:1095] Free  at 7f19de039400 of size 589824 next 19\n",
      "2023-05-05 16:42:06.123483: I tensorflow/tsl/framework/bfc_allocator.cc:1095] InUse at 7f19de0c9400 of size 294912 next 18\n",
      "2023-05-05 16:42:06.123486: I tensorflow/tsl/framework/bfc_allocator.cc:1095] InUse at 7f19de111400 of size 294912 next 26\n",
      "2023-05-05 16:42:06.123489: I tensorflow/tsl/framework/bfc_allocator.cc:1095] InUse at 7f19de159400 of size 73728 next 28\n",
      "2023-05-05 16:42:06.123492: I tensorflow/tsl/framework/bfc_allocator.cc:1095] Free  at 7f19de16b400 of size 221184 next 23\n",
      "2023-05-05 16:42:06.123495: I tensorflow/tsl/framework/bfc_allocator.cc:1095] InUse at 7f19de1a1400 of size 589824 next 22\n",
      "2023-05-05 16:42:06.123498: I tensorflow/tsl/framework/bfc_allocator.cc:1095] Free  at 7f19de231400 of size 487189504 next 18446744073709551615\n",
      "2023-05-05 16:42:06.123501: I tensorflow/tsl/framework/bfc_allocator.cc:1100]      Summary of in-use Chunks by size: \n",
      "2023-05-05 16:42:06.123506: I tensorflow/tsl/framework/bfc_allocator.cc:1103] 19 Chunks of size 256 totalling 4.8KiB\n",
      "2023-05-05 16:42:06.123510: I tensorflow/tsl/framework/bfc_allocator.cc:1103] 2 Chunks of size 512 totalling 1.0KiB\n",
      "2023-05-05 16:42:06.123518: I tensorflow/tsl/framework/bfc_allocator.cc:1103] 1 Chunks of size 1280 totalling 1.2KiB\n",
      "2023-05-05 16:42:06.123521: I tensorflow/tsl/framework/bfc_allocator.cc:1103] 2 Chunks of size 3584 totalling 7.0KiB\n",
      "2023-05-05 16:42:06.123525: I tensorflow/tsl/framework/bfc_allocator.cc:1103] 2 Chunks of size 73728 totalling 144.0KiB\n",
      "2023-05-05 16:42:06.123529: I tensorflow/tsl/framework/bfc_allocator.cc:1103] 2 Chunks of size 294912 totalling 576.0KiB\n",
      "2023-05-05 16:42:06.123532: I tensorflow/tsl/framework/bfc_allocator.cc:1103] 1 Chunks of size 589824 totalling 576.0KiB\n",
      "2023-05-05 16:42:06.123536: I tensorflow/tsl/framework/bfc_allocator.cc:1107] Sum Total of in-use chunks: 1.28MiB\n",
      "2023-05-05 16:42:06.123540: I tensorflow/tsl/framework/bfc_allocator.cc:1109] Total bytes in pool: 489488384 memory_limit_: 489488384 available bytes: 0 curr_region_allocation_bytes_: 978976768\n",
      "2023-05-05 16:42:06.123546: I tensorflow/tsl/framework/bfc_allocator.cc:1114] Stats: \n",
      "Limit:                       489488384\n",
      "InUse:                         1341440\n",
      "MaxInUse:                      2146816\n",
      "NumAllocs:                          64\n",
      "MaxAllocSize:                   589824\n",
      "Reserved:                            0\n",
      "PeakReserved:                        0\n",
      "LargestFreeBlock:                    0\n",
      "\n",
      "2023-05-05 16:42:06.123552: W tensorflow/tsl/framework/bfc_allocator.cc:497] *___________________________________________________________________________________________________\n"
     ]
    },
    {
     "ename": "InternalError",
     "evalue": "Failed copying input tensor from /job:localhost/replica:0/task:0/device:CPU:0 to /job:localhost/replica:0/task:0/device:GPU:0 in order to run _EagerConst: Dst tensor is not initialized.",
     "output_type": "error",
     "traceback": [
      "\u001b[0;31m---------------------------------------------------------------------------\u001b[0m",
      "\u001b[0;31mInternalError\u001b[0m                             Traceback (most recent call last)",
      "Input \u001b[0;32mIn [12]\u001b[0m, in \u001b[0;36m<cell line: 2>\u001b[0;34m()\u001b[0m\n\u001b[1;32m      1\u001b[0m data_path \u001b[38;5;241m=\u001b[39m \u001b[38;5;124m\"\u001b[39m\u001b[38;5;124mfairface-img-margin025-trainval/fairface-img-margin025-trainval\u001b[39m\u001b[38;5;124m\"\u001b[39m\n\u001b[0;32m----> 2\u001b[0m \u001b[43mrun_model\u001b[49m\u001b[43m(\u001b[49m\u001b[43mdata_path\u001b[49m\u001b[43m)\u001b[49m\n",
      "Input \u001b[0;32mIn [11]\u001b[0m, in \u001b[0;36mrun_model\u001b[0;34m(data_path)\u001b[0m\n\u001b[1;32m     14\u001b[0m autoencoder\u001b[38;5;241m.\u001b[39mcompile(optimizer\u001b[38;5;241m=\u001b[39m\u001b[38;5;124m'\u001b[39m\u001b[38;5;124madam\u001b[39m\u001b[38;5;124m'\u001b[39m, loss\u001b[38;5;241m=\u001b[39m\u001b[38;5;124m'\u001b[39m\u001b[38;5;124mmse\u001b[39m\u001b[38;5;124m'\u001b[39m)\n\u001b[1;32m     16\u001b[0m \u001b[38;5;66;03m# Train the autoencoder\u001b[39;00m\n\u001b[0;32m---> 17\u001b[0m \u001b[43mautoencoder\u001b[49m\u001b[38;5;241;43m.\u001b[39;49m\u001b[43mfit\u001b[49m\u001b[43m(\u001b[49m\n\u001b[1;32m     18\u001b[0m \u001b[43m    \u001b[49m\u001b[43mtrain_images\u001b[49m\u001b[43m,\u001b[49m\u001b[43m \u001b[49m\u001b[43mtrain_images\u001b[49m\u001b[43m,\u001b[49m\n\u001b[1;32m     19\u001b[0m \u001b[43m    \u001b[49m\u001b[43mepochs\u001b[49m\u001b[38;5;241;43m=\u001b[39;49m\u001b[38;5;241;43m2\u001b[39;49m\u001b[43m,\u001b[49m\n\u001b[1;32m     20\u001b[0m \u001b[43m    \u001b[49m\u001b[43mbatch_size\u001b[49m\u001b[38;5;241;43m=\u001b[39;49m\u001b[38;5;241;43m8\u001b[39;49m\u001b[43m,\u001b[49m\n\u001b[1;32m     21\u001b[0m \u001b[43m    \u001b[49m\u001b[43mvalidation_data\u001b[49m\u001b[38;5;241;43m=\u001b[39;49m\u001b[43m(\u001b[49m\u001b[43mval_images\u001b[49m\u001b[43m,\u001b[49m\u001b[43m \u001b[49m\u001b[43mval_images\u001b[49m\u001b[43m)\u001b[49m\n\u001b[1;32m     22\u001b[0m \u001b[43m\u001b[49m\u001b[43m)\u001b[49m\n\u001b[1;32m     24\u001b[0m \u001b[38;5;66;03m# Extract the encoder\u001b[39;00m\n\u001b[1;32m     25\u001b[0m encoder \u001b[38;5;241m=\u001b[39m extract_encoder(autoencoder)\n",
      "File \u001b[0;32m~/.local/lib/python3.10/site-packages/keras/utils/traceback_utils.py:70\u001b[0m, in \u001b[0;36mfilter_traceback.<locals>.error_handler\u001b[0;34m(*args, **kwargs)\u001b[0m\n\u001b[1;32m     67\u001b[0m     filtered_tb \u001b[38;5;241m=\u001b[39m _process_traceback_frames(e\u001b[38;5;241m.\u001b[39m__traceback__)\n\u001b[1;32m     68\u001b[0m     \u001b[38;5;66;03m# To get the full stack trace, call:\u001b[39;00m\n\u001b[1;32m     69\u001b[0m     \u001b[38;5;66;03m# `tf.debugging.disable_traceback_filtering()`\u001b[39;00m\n\u001b[0;32m---> 70\u001b[0m     \u001b[38;5;28;01mraise\u001b[39;00m e\u001b[38;5;241m.\u001b[39mwith_traceback(filtered_tb) \u001b[38;5;28;01mfrom\u001b[39;00m \u001b[38;5;28mNone\u001b[39m\n\u001b[1;32m     71\u001b[0m \u001b[38;5;28;01mfinally\u001b[39;00m:\n\u001b[1;32m     72\u001b[0m     \u001b[38;5;28;01mdel\u001b[39;00m filtered_tb\n",
      "File \u001b[0;32m~/.local/lib/python3.10/site-packages/tensorflow/python/framework/constant_op.py:103\u001b[0m, in \u001b[0;36mconvert_to_eager_tensor\u001b[0;34m(value, ctx, dtype)\u001b[0m\n\u001b[1;32m    101\u001b[0m     dtype \u001b[38;5;241m=\u001b[39m dtypes\u001b[38;5;241m.\u001b[39mas_dtype(dtype)\u001b[38;5;241m.\u001b[39mas_datatype_enum\n\u001b[1;32m    102\u001b[0m ctx\u001b[38;5;241m.\u001b[39mensure_initialized()\n\u001b[0;32m--> 103\u001b[0m \u001b[38;5;28;01mreturn\u001b[39;00m \u001b[43mops\u001b[49m\u001b[38;5;241;43m.\u001b[39;49m\u001b[43mEagerTensor\u001b[49m\u001b[43m(\u001b[49m\u001b[43mvalue\u001b[49m\u001b[43m,\u001b[49m\u001b[43m \u001b[49m\u001b[43mctx\u001b[49m\u001b[38;5;241;43m.\u001b[39;49m\u001b[43mdevice_name\u001b[49m\u001b[43m,\u001b[49m\u001b[43m \u001b[49m\u001b[43mdtype\u001b[49m\u001b[43m)\u001b[49m\n",
      "\u001b[0;31mInternalError\u001b[0m: Failed copying input tensor from /job:localhost/replica:0/task:0/device:CPU:0 to /job:localhost/replica:0/task:0/device:GPU:0 in order to run _EagerConst: Dst tensor is not initialized."
     ]
    }
   ],
   "source": [
    "data_path = \"fairface-img-margin025-trainval/fairface-img-margin025-trainval\"\n",
    "run_model(data_path)"
   ]
  },
  {
   "cell_type": "markdown",
   "metadata": {},
   "source": [
    "## Deep Learning Model"
   ]
  },
  {
   "cell_type": "code",
   "execution_count": null,
   "metadata": {},
   "outputs": [],
   "source": [
    "def run_model_dl(data_path):\n",
    "    input_shape = (224, 224, 3)\n",
    "\n",
    "    # Load the data\n",
    "    train_images, train_labels, val_images, val_labels, age_encoder, gender_encoder, race_encoder = load_sample_data(\n",
    "        data_path, input_shape, \"train.csv\", \"val.csv\", sample_percent=0.1\n",
    "    )\n",
    "\n",
    "    # Create the autoencoder model\n",
    "    autoencoder = create_autoencoder(input_shape)\n",
    "    autoencoder.compile(optimizer='adam', loss='mse')\n",
    "\n",
    "    # Train the autoencoder\n",
    "    autoencoder.fit(\n",
    "        train_images, train_images,\n",
    "        epochs=2,\n",
    "        batch_size=32,\n",
    "        validation_data=(val_images, val_images)\n",
    "    )\n",
    "\n",
    "    # Extract the encoder\n",
    "    encoder = extract_encoder(autoencoder)\n",
    "\n",
    "    # Create the classification model\n",
    "    classification_model = create_classification_model(encoder, len(race_encoder.classes_), \n",
    "                                                       len(age_encoder.classes_), len(gender_encoder.classes_))\n",
    "\n",
    "    # Compile the classification model\n",
    "    classification_model.compile(optimizer='adam',\n",
    "                                  loss={'race_output': 'sparse_categorical_crossentropy',\n",
    "                                        'age_output': 'sparse_categorical_crossentropy',\n",
    "                                        'gender_output': 'sparse_categorical_crossentropy'},\n",
    "                                  metrics=['accuracy'])\n",
    "\n",
    "    # Train the classification model\n",
    "    classification_model.fit(train_images, {'race_output': train_labels[:, 2], 'age_output': train_labels[:, 0],\n",
    "                                            'gender_output': train_labels[:, 1]},\n",
    "                             epochs=10,\n",
    "                             batch_size=32,\n",
    "                             validation_data=(val_images, {'race_output': val_labels[:, 2],\n",
    "                                                           'age_output': val_labels[:, 0],\n",
    "                                                           'gender_output': val_labels[:, 1]}))\n",
    "\n",
    "    # Predict the labels for the validation set\n",
    "    val_predictions = classification_model.predict(val_images)\n",
    "    val_pred_classes = [np.argmax(predictions, axis=-1) for predictions in val_predictions]\n",
    "\n",
    "    # Compute the accuracy for each attribute\n",
    "    print(\"Validation accuracy:\")\n",
    "    print(\"Age:\")\n",
    "    print(classification_report(val_labels[:, 0], val_pred_classes[1], target_names=age_encoder.classes_))\n",
    "    print(\"Gender:\")\n",
    "    print(classification_report(val_labels[:, 1], val_pred_classes[2], target_names=gender_encoder.classes_))\n",
    "    print(\"Race:\")\n",
    "    print(classification_report(val_labels[:, 2], val_pred_classes[0], target_names=race_encoder.classes_))\n",
    "\n",
    "    return encoder"
   ]
  },
  {
   "cell_type": "code",
   "execution_count": null,
   "metadata": {},
   "outputs": [],
   "source": [
    "data_path = \"/Users/harshvardhan/Library/CloudStorage/Dropbox/Academics/UTK Classes/Spring 2023/Deep Learning/Final Project - FairFace Data/cosc-525-final-project/fairface-img-margin025-trainval\"\n",
    "run_model_dl(data_path)\n"
   ]
  }
 ],
 "metadata": {
  "kernelspec": {
   "display_name": "Python 3 (ipykernel)",
   "language": "python",
   "name": "python3"
  },
  "language_info": {
   "codemirror_mode": {
    "name": "ipython",
    "version": 3
   },
   "file_extension": ".py",
   "mimetype": "text/x-python",
   "name": "python",
   "nbconvert_exporter": "python",
   "pygments_lexer": "ipython3",
   "version": "3.10.6"
  }
 },
 "nbformat": 4,
 "nbformat_minor": 4
}
